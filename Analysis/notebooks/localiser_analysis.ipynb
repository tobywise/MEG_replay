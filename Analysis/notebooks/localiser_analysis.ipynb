{
 "cells": [
  {
   "cell_type": "code",
   "execution_count": 1,
   "metadata": {
    "collapsed": true
   },
   "outputs": [],
   "source": [
    "import os \n",
    "import pandas as pd\n",
    "import numpy as np\n",
    "import matplotlib.pyplot as plt\n",
    "import matplotlib\n",
    "import matplotlib.font_manager as font_manager\n",
    "prop = font_manager.FontProperties(fname=\"C:\\WINDOWS\\Fonts\\opensans-light.ttf\")\n",
    "matplotlib.rcParams['font.family'] = prop.get_name()\n",
    "matplotlib.rcParams['axes.facecolor'] = '#fbfbfb'\n",
    "\n",
    "os.chdir('../..')\n"
   ]
  },
  {
   "cell_type": "code",
   "execution_count": 2,
   "metadata": {},
   "outputs": [],
   "source": [
    "subjects = ['L002']\n",
    "\n",
    "data_dir = 'localiser\\Data'\n",
    "\n",
    "dfs = []\n",
    "\n",
    "for i in subjects:\n",
    "    data_files = [pd.read_csv(os.path.join(data_dir, j)) for j in os.listdir(data_dir) if i in j]\n",
    "    \n",
    "    full_df = pd.concat(data_files)\n",
    "    full_df['trial'] = range(0, len(full_df))\n",
    "    full_df.True_answer = full_df.True_answer == 'True'\n",
    "    full_df['hit'] = (full_df.True_answer == True) & (full_df.Response == 1)\n",
    "    full_df['miss'] = (full_df.True_answer == True) & (full_df.Response == 0)\n",
    "    full_df['correct'] = full_df.True_answer == full_df.Response\n",
    "    dfs.append(full_df)\n",
    "        \n",
    "\n",
    "        \n",
    "    "
   ]
  },
  {
   "cell_type": "code",
   "execution_count": 3,
   "metadata": {},
   "outputs": [
    {
     "name": "stdout",
     "output_type": "stream",
     "text": [
      "     True_answer  Response  trial    hit   miss  correct\n",
      "0           True         0      0  False   True    False\n",
      "1           True         0      1  False   True    False\n",
      "2          False         0      2  False  False     True\n",
      "3           True         0      3  False   True    False\n",
      "4           True         0      4  False   True    False\n",
      "5           True         0      5  False   True    False\n",
      "6           True         0      6  False   True    False\n",
      "7          False         1      7  False  False    False\n",
      "8          False         0      8  False  False     True\n",
      "9           True         0      9  False   True    False\n",
      "10         False         0     10  False  False     True\n",
      "11         False         0     11  False  False     True\n",
      "12         False         0     12  False  False     True\n",
      "13         False         0     13  False  False     True\n",
      "14         False         0     14  False  False     True\n",
      "15         False         0     15  False  False     True\n",
      "16         False         0     16  False  False     True\n",
      "17          True         1     17   True  False     True\n",
      "18         False         0     18  False  False     True\n",
      "19         False         0     19  False  False     True\n",
      "20         False         0     20  False  False     True\n",
      "21         False         0     21  False  False     True\n",
      "22          True         1     22   True  False     True\n",
      "23         False         0     23  False  False     True\n",
      "24         False         0     24  False  False     True\n",
      "25         False         0     25  False  False     True\n",
      "26         False         0     26  False  False     True\n",
      "27          True         0     27  False   True    False\n",
      "28          True         1     28   True  False     True\n",
      "29         False         0     29  False  False     True\n",
      "..           ...       ...    ...    ...    ...      ...\n",
      "180        False         0   1410  False  False     True\n",
      "181        False         0   1411  False  False     True\n",
      "182        False         0   1412  False  False     True\n",
      "183         True         1   1413   True  False     True\n",
      "184         True         1   1414   True  False     True\n",
      "185        False         0   1415  False  False     True\n",
      "186         True         1   1416   True  False     True\n",
      "187        False         0   1417  False  False     True\n",
      "188         True         1   1418   True  False     True\n",
      "189         True         1   1419   True  False     True\n",
      "190        False         0   1420  False  False     True\n",
      "191         True         1   1421   True  False     True\n",
      "192        False         0   1422  False  False     True\n",
      "193        False         0   1423  False  False     True\n",
      "194        False         0   1424  False  False     True\n",
      "195         True         1   1425   True  False     True\n",
      "196        False         0   1426  False  False     True\n",
      "197        False         0   1427  False  False     True\n",
      "198        False         0   1428  False  False     True\n",
      "199        False         0   1429  False  False     True\n",
      "200         True         1   1430   True  False     True\n",
      "201         True         1   1431   True  False     True\n",
      "202        False         0   1432  False  False     True\n",
      "203        False         0   1433  False  False     True\n",
      "204        False         0   1434  False  False     True\n",
      "205        False         0   1435  False  False     True\n",
      "206         True         0   1436  False   True    False\n",
      "207        False         0   1437  False  False     True\n",
      "208        False         0   1438  False  False     True\n",
      "209         True         1   1439   True  False     True\n",
      "\n",
      "[1440 rows x 6 columns]\n"
     ]
    }
   ],
   "source": [
    "print dfs[0]"
   ]
  },
  {
   "cell_type": "code",
   "execution_count": 4,
   "metadata": {},
   "outputs": [
    {
     "data": {
      "text/plain": [
       "<matplotlib.collections.PathCollection at 0x9c0aa20>"
      ]
     },
     "execution_count": 4,
     "metadata": {},
     "output_type": "execute_result"
    }
   ],
   "source": [
    "stop = 0\n",
    "start = 840\n",
    "n_trials = 100\n",
    "plt.figure(figsize=(20, 3))\n",
    "plt.scatter(range(len(dfs[0]))[:n_trials], dfs[0].hit[:n_trials])"
   ]
  },
  {
   "cell_type": "code",
   "execution_count": 5,
   "metadata": {},
   "outputs": [
    {
     "data": {
      "text/plain": [
       "[<matplotlib.lines.Line2D at 0x99b4978>]"
      ]
     },
     "execution_count": 5,
     "metadata": {},
     "output_type": "execute_result"
    }
   ],
   "source": [
    "plt.plot(np.cumsum(dfs[0].hit.values))\n",
    "plt.plot(np.cumsum(dfs[0].miss.values))"
   ]
  },
  {
   "cell_type": "code",
   "execution_count": 7,
   "metadata": {},
   "outputs": [],
   "source": [
    "plt.figure();"
   ]
  },
  {
   "cell_type": "code",
   "execution_count": null,
   "metadata": {},
   "outputs": [],
   "source": []
  }
 ],
 "metadata": {
  "kernelspec": {
   "display_name": "Python 2",
   "language": "python",
   "name": "python2"
  },
  "language_info": {
   "codemirror_mode": {
    "name": "ipython",
    "version": 2
   },
   "file_extension": ".py",
   "mimetype": "text/x-python",
   "name": "python",
   "nbconvert_exporter": "python",
   "pygments_lexer": "ipython2",
   "version": "2.7.14"
  }
 },
 "nbformat": 4,
 "nbformat_minor": 2
}
