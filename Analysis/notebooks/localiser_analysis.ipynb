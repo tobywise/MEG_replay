{
 "cells": [
  {
   "cell_type": "code",
   "execution_count": 1,
   "metadata": {
    "collapsed": true
   },
   "outputs": [],
   "source": [
    "import os \n",
    "import pandas as pd\n",
    "import numpy as np\n",
    "import matplotlib.pyplot as plt\n",
    "import matplotlib\n",
    "import matplotlib.font_manager as font_manager\n",
    "prop = font_manager.FontProperties(fname=\"C:\\WINDOWS\\Fonts\\opensans-light.ttf\")\n",
    "matplotlib.rcParams['font.family'] = prop.get_name()\n",
    "matplotlib.rcParams['axes.facecolor'] = '#fbfbfb'\n",
    "\n",
    "os.chdir('../..')\n"
   ]
  },
  {
   "cell_type": "code",
   "execution_count": 11,
   "metadata": {},
   "outputs": [],
   "source": [
    "subjects = ['M001']\n",
    "\n",
    "data_dir = 'localiser\\Data'\n",
    "\n",
    "dfs = []\n",
    "\n",
    "for i in subjects:\n",
    "    data_files = [pd.read_csv(os.path.join(data_dir, j)) for j in os.listdir(data_dir) if i in j]\n",
    "    \n",
    "    full_df = pd.concat(data_files)\n",
    "    full_df['trial'] = range(0, len(full_df))\n",
    "    full_df.True_answer = full_df.True_answer == 'True'\n",
    "    full_df['hit'] = (full_df.True_answer == True) & (full_df.Response == 1)\n",
    "    full_df['miss'] = (full_df.True_answer == True) & (full_df.Response == 0)\n",
    "    full_df['correct'] = full_df.True_answer == full_df.Response\n",
    "    dfs.append(full_df)\n",
    "        "
   ]
  },
  {
   "cell_type": "code",
   "execution_count": 29,
   "metadata": {},
   "outputs": [
    {
     "data": {
      "text/html": [
       "<div>\n",
       "<style scoped>\n",
       "    .dataframe tbody tr th:only-of-type {\n",
       "        vertical-align: middle;\n",
       "    }\n",
       "\n",
       "    .dataframe tbody tr th {\n",
       "        vertical-align: top;\n",
       "    }\n",
       "\n",
       "    .dataframe thead th {\n",
       "        text-align: right;\n",
       "    }\n",
       "</style>\n",
       "<table border=\"1\" class=\"dataframe\">\n",
       "  <thead>\n",
       "    <tr style=\"text-align: right;\">\n",
       "      <th></th>\n",
       "      <th>True_answer</th>\n",
       "      <th>Response</th>\n",
       "      <th>trial</th>\n",
       "      <th>hit</th>\n",
       "      <th>miss</th>\n",
       "      <th>correct</th>\n",
       "    </tr>\n",
       "  </thead>\n",
       "  <tbody>\n",
       "    <tr>\n",
       "      <th>0</th>\n",
       "      <td>False</td>\n",
       "      <td>0</td>\n",
       "      <td>0</td>\n",
       "      <td>False</td>\n",
       "      <td>False</td>\n",
       "      <td>True</td>\n",
       "    </tr>\n",
       "    <tr>\n",
       "      <th>1</th>\n",
       "      <td>False</td>\n",
       "      <td>0</td>\n",
       "      <td>1</td>\n",
       "      <td>False</td>\n",
       "      <td>False</td>\n",
       "      <td>True</td>\n",
       "    </tr>\n",
       "    <tr>\n",
       "      <th>2</th>\n",
       "      <td>False</td>\n",
       "      <td>0</td>\n",
       "      <td>2</td>\n",
       "      <td>False</td>\n",
       "      <td>False</td>\n",
       "      <td>True</td>\n",
       "    </tr>\n",
       "    <tr>\n",
       "      <th>3</th>\n",
       "      <td>True</td>\n",
       "      <td>0</td>\n",
       "      <td>3</td>\n",
       "      <td>False</td>\n",
       "      <td>True</td>\n",
       "      <td>False</td>\n",
       "    </tr>\n",
       "    <tr>\n",
       "      <th>4</th>\n",
       "      <td>True</td>\n",
       "      <td>0</td>\n",
       "      <td>4</td>\n",
       "      <td>False</td>\n",
       "      <td>True</td>\n",
       "      <td>False</td>\n",
       "    </tr>\n",
       "  </tbody>\n",
       "</table>\n",
       "</div>"
      ],
      "text/plain": [
       "   True_answer  Response  trial    hit   miss  correct\n",
       "0        False         0      0  False  False     True\n",
       "1        False         0      1  False  False     True\n",
       "2        False         0      2  False  False     True\n",
       "3         True         0      3  False   True    False\n",
       "4         True         0      4  False   True    False"
      ]
     },
     "execution_count": 29,
     "metadata": {},
     "output_type": "execute_result"
    }
   ],
   "source": [
    "dfs[0].head()"
   ]
  },
  {
   "cell_type": "code",
   "execution_count": 24,
   "metadata": {},
   "outputs": [
    {
     "data": {
      "image/png": "[encoded data removed]",
      "text/plain": [
       "<matplotlib.figure.Figure at 0xab22cc0>"
      ]
     },
     "metadata": {},
     "output_type": "display_data"
    }
   ],
   "source": [
    "stop = 0\n",
    "start = 840\n",
    "n_trials = 600\n",
    "f, ax = plt.subplots(2, figsize=(20, 6))\n",
    "ax[0].scatter(range(len(dfs[0]))[:n_trials], dfs[0].hit[:n_trials])\n",
    "ax[0].set_title(\"Hits\")\n",
    "ax[1].scatter(range(len(dfs[0]))[:n_trials], dfs[0].miss[:n_trials], c='tab:orange')\n",
    "ax[1].set_title(\"Misses\")\n",
    "plt.show()"
   ]
  },
  {
   "cell_type": "code",
   "execution_count": 27,
   "metadata": {},
   "outputs": [
    {
     "data": {
      "image/png": "[encoded data removed]",
      "text/plain": [
       "<matplotlib.figure.Figure at 0xc88a7f0>"
      ]
     },
     "metadata": {},
     "output_type": "display_data"
    }
   ],
   "source": [
    "plt.plot(np.cumsum(dfs[0].hit.values), label='Hits', c='tab:blue')\n",
    "plt.plot(np.cumsum(dfs[0].miss.values), label='Misses', c='tab:orange')\n",
    "plt.title(\"Cumulative hits/misses\")\n",
    "plt.legend()\n",
    "plt.show()"
   ]
  },
  {
   "cell_type": "code",
   "execution_count": 6,
   "metadata": {},
   "outputs": [],
   "source": []
  },
  {
   "cell_type": "code",
   "execution_count": null,
   "metadata": {},
   "outputs": [],
   "source": []
  }
 ],
 "metadata": {
  "kernelspec": {
   "display_name": "Python 2",
   "language": "python",
   "name": "python2"
  },
  "language_info": {
   "codemirror_mode": {
    "name": "ipython",
    "version": 2
   },
   "file_extension": ".py",
   "mimetype": "text/x-python",
   "name": "python",
   "nbconvert_exporter": "python",
   "pygments_lexer": "ipython2",
   "version": "2.7.14"
  }
 },
 "nbformat": 4,
 "nbformat_minor": 2
}
